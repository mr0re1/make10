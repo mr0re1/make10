{
 "cells": [
  {
   "cell_type": "code",
   "execution_count": 1,
   "metadata": {},
   "outputs": [],
   "source": [
    "import random\n",
    "import itertools\n",
    "from collections import defaultdict"
   ]
  },
  {
   "cell_type": "code",
   "execution_count": 4,
   "metadata": {},
   "outputs": [],
   "source": [
    "def draw_board(board):\n",
    "  print(\"-----------------\")\n",
    "  for row in board:\n",
    "    print(' '.join(map(str, row)))\n",
    "  print(\"-----------------\")\n",
    "\n",
    "def compress_board(board):\n",
    "    W, H = len(board), len(board[0])\n",
    "    seq = []\n",
    "    for x in range(W):\n",
    "        for y in range(H):\n",
    "            if board[x][y] != 0:\n",
    "                seq.append(board[x][y])\n",
    "    jseq = ','.join(map(str, seq))\n",
    "    print(\"Board{W: %d, H: %d, b: []int{%s}}\" % (W, H, jseq))"
   ]
  },
  {
   "cell_type": "code",
   "execution_count": 18,
   "metadata": {},
   "outputs": [],
   "source": [
    "\n",
    "def s10req(n, s, m):\n",
    "    if n == 0 and s == 0:\n",
    "        yield []\n",
    "        return\n",
    "    if m > s or n == 0 or s < 0:\n",
    "        return\n",
    "    for p in range(m, min(9, s) + 1):\n",
    "        for seq in s10req(n - 1, s - p, p):\n",
    "            yield [p] + seq\n",
    "    \n",
    "sum_10_seq = {\n",
    "    i: list(s10req(i, 10, 1)) for i in range(2, 5)\n",
    "}   "
   ]
  },
  {
   "cell_type": "code",
   "execution_count": 7,
   "metadata": {},
   "outputs": [
    {
     "ename": "RecursionError",
     "evalue": "maximum recursion depth exceeded while calling a Python object",
     "output_type": "error",
     "traceback": [
      "\u001b[0;31m---------------------------------------------------------------------------\u001b[0m",
      "\u001b[0;31mRecursionError\u001b[0m                            Traceback (most recent call last)",
      "Cell \u001b[0;32mIn[7], line 69\u001b[0m\n\u001b[1;32m     65\u001b[0m         \u001b[38;5;28;01mreturn\u001b[39;00m generate_sum_10(n) \u001b[38;5;66;03m# try again\u001b[39;00m\n\u001b[1;32m     66\u001b[0m     \u001b[38;5;28;01mreturn\u001b[39;00m seq\n\u001b[0;32m---> 69\u001b[0m board \u001b[38;5;241m=\u001b[39m \u001b[43mmake_board\u001b[49m\u001b[43m(\u001b[49m\u001b[38;5;241;43m5\u001b[39;49m\u001b[43m,\u001b[49m\u001b[43m \u001b[49m\u001b[38;5;241;43m5\u001b[39;49m\u001b[43m,\u001b[49m\u001b[43m \u001b[49m\u001b[38;5;241;43m35\u001b[39;49m\u001b[43m,\u001b[49m\u001b[43m \u001b[49m\u001b[43mprint_board\u001b[49m\u001b[38;5;241;43m=\u001b[39;49m\u001b[38;5;28;43;01mTrue\u001b[39;49;00m\u001b[43m)\u001b[49m\n\u001b[1;32m     70\u001b[0m \u001b[38;5;28;01mif\u001b[39;00m board \u001b[38;5;129;01mis\u001b[39;00m \u001b[38;5;129;01mnot\u001b[39;00m \u001b[38;5;28;01mNone\u001b[39;00m:\n\u001b[1;32m     71\u001b[0m     draw_board(board)\n",
      "Cell \u001b[0;32mIn[7], line 56\u001b[0m, in \u001b[0;36mmake_board\u001b[0;34m(w, h, seed, print_board)\u001b[0m\n\u001b[1;32m     53\u001b[0m                 board[x][y] \u001b[38;5;241m=\u001b[39m \u001b[38;5;241m0\u001b[39m\n\u001b[1;32m     54\u001b[0m     \u001b[38;5;28;01mreturn\u001b[39;00m \u001b[38;5;28;01mFalse\u001b[39;00m\n\u001b[0;32m---> 56\u001b[0m \u001b[38;5;28;01mif\u001b[39;00m \u001b[38;5;129;01mnot\u001b[39;00m \u001b[43m_rec\u001b[49m\u001b[43m(\u001b[49m\u001b[43m)\u001b[49m:\n\u001b[1;32m     57\u001b[0m     \u001b[38;5;28;01mreturn\u001b[39;00m \u001b[38;5;28;01mNone\u001b[39;00m\n\u001b[1;32m     58\u001b[0m \u001b[38;5;28;01mreturn\u001b[39;00m board\n",
      "Cell \u001b[0;32mIn[7], line 41\u001b[0m, in \u001b[0;36mmake_board.<locals>._rec\u001b[0;34m()\u001b[0m\n\u001b[1;32m     38\u001b[0m nns \u001b[38;5;241m=\u001b[39m \u001b[38;5;28mlist\u001b[39m(\u001b[38;5;28mreversed\u001b[39m(\u001b[38;5;28mrange\u001b[39m(\u001b[38;5;241m2\u001b[39m, \u001b[38;5;28mmin\u001b[39m(MAX_NUMS_PER_GLADE, gw\u001b[38;5;241m*\u001b[39mgh)\u001b[38;5;241m+\u001b[39m\u001b[38;5;241m1\u001b[39m)))\n\u001b[1;32m     40\u001b[0m \u001b[38;5;28;01mfor\u001b[39;00m nn \u001b[38;5;129;01min\u001b[39;00m nns:\n\u001b[0;32m---> 41\u001b[0m   nums \u001b[38;5;241m=\u001b[39m \u001b[43mgenerate_sum_10\u001b[49m\u001b[43m(\u001b[49m\u001b[43mnn\u001b[49m\u001b[43m)\u001b[49m\n\u001b[1;32m     42\u001b[0m   \u001b[38;5;28;01mfor\u001b[39;00m nxy \u001b[38;5;129;01min\u001b[39;00m itertools\u001b[38;5;241m.\u001b[39mcombinations(all_xy, nn):\n\u001b[1;32m     43\u001b[0m       \u001b[38;5;28;01mfor\u001b[39;00m n, (x, y) \u001b[38;5;129;01min\u001b[39;00m \u001b[38;5;28mzip\u001b[39m(nums, nxy):\n",
      "Cell \u001b[0;32mIn[7], line 65\u001b[0m, in \u001b[0;36mgenerate_sum_10\u001b[0;34m(n)\u001b[0m\n\u001b[1;32m     63\u001b[0m seq \u001b[38;5;241m=\u001b[39m [random\u001b[38;5;241m.\u001b[39mrandint(\u001b[38;5;241m1\u001b[39m, \u001b[38;5;241m9\u001b[39m) \u001b[38;5;28;01mfor\u001b[39;00m _ \u001b[38;5;129;01min\u001b[39;00m \u001b[38;5;28mrange\u001b[39m(n)]\n\u001b[1;32m     64\u001b[0m \u001b[38;5;28;01mif\u001b[39;00m \u001b[38;5;28msum\u001b[39m(seq) \u001b[38;5;241m!=\u001b[39m \u001b[38;5;241m0\u001b[39m:\n\u001b[0;32m---> 65\u001b[0m     \u001b[38;5;28;01mreturn\u001b[39;00m \u001b[43mgenerate_sum_10\u001b[49m\u001b[43m(\u001b[49m\u001b[43mn\u001b[49m\u001b[43m)\u001b[49m \u001b[38;5;66;03m# try again\u001b[39;00m\n\u001b[1;32m     66\u001b[0m \u001b[38;5;28;01mreturn\u001b[39;00m seq\n",
      "Cell \u001b[0;32mIn[7], line 65\u001b[0m, in \u001b[0;36mgenerate_sum_10\u001b[0;34m(n)\u001b[0m\n\u001b[1;32m     63\u001b[0m seq \u001b[38;5;241m=\u001b[39m [random\u001b[38;5;241m.\u001b[39mrandint(\u001b[38;5;241m1\u001b[39m, \u001b[38;5;241m9\u001b[39m) \u001b[38;5;28;01mfor\u001b[39;00m _ \u001b[38;5;129;01min\u001b[39;00m \u001b[38;5;28mrange\u001b[39m(n)]\n\u001b[1;32m     64\u001b[0m \u001b[38;5;28;01mif\u001b[39;00m \u001b[38;5;28msum\u001b[39m(seq) \u001b[38;5;241m!=\u001b[39m \u001b[38;5;241m0\u001b[39m:\n\u001b[0;32m---> 65\u001b[0m     \u001b[38;5;28;01mreturn\u001b[39;00m \u001b[43mgenerate_sum_10\u001b[49m\u001b[43m(\u001b[49m\u001b[43mn\u001b[49m\u001b[43m)\u001b[49m \u001b[38;5;66;03m# try again\u001b[39;00m\n\u001b[1;32m     66\u001b[0m \u001b[38;5;28;01mreturn\u001b[39;00m seq\n",
      "    \u001b[0;31m[... skipping similar frames: generate_sum_10 at line 65 (2964 times)]\u001b[0m\n",
      "Cell \u001b[0;32mIn[7], line 65\u001b[0m, in \u001b[0;36mgenerate_sum_10\u001b[0;34m(n)\u001b[0m\n\u001b[1;32m     63\u001b[0m seq \u001b[38;5;241m=\u001b[39m [random\u001b[38;5;241m.\u001b[39mrandint(\u001b[38;5;241m1\u001b[39m, \u001b[38;5;241m9\u001b[39m) \u001b[38;5;28;01mfor\u001b[39;00m _ \u001b[38;5;129;01min\u001b[39;00m \u001b[38;5;28mrange\u001b[39m(n)]\n\u001b[1;32m     64\u001b[0m \u001b[38;5;28;01mif\u001b[39;00m \u001b[38;5;28msum\u001b[39m(seq) \u001b[38;5;241m!=\u001b[39m \u001b[38;5;241m0\u001b[39m:\n\u001b[0;32m---> 65\u001b[0m     \u001b[38;5;28;01mreturn\u001b[39;00m \u001b[43mgenerate_sum_10\u001b[49m\u001b[43m(\u001b[49m\u001b[43mn\u001b[49m\u001b[43m)\u001b[49m \u001b[38;5;66;03m# try again\u001b[39;00m\n\u001b[1;32m     66\u001b[0m \u001b[38;5;28;01mreturn\u001b[39;00m seq\n",
      "Cell \u001b[0;32mIn[7], line 63\u001b[0m, in \u001b[0;36mgenerate_sum_10\u001b[0;34m(n)\u001b[0m\n\u001b[1;32m     62\u001b[0m \u001b[38;5;28;01mdef\u001b[39;00m \u001b[38;5;21mgenerate_sum_10\u001b[39m(n):\n\u001b[0;32m---> 63\u001b[0m     seq \u001b[38;5;241m=\u001b[39m \u001b[43m[\u001b[49m\u001b[43mrandom\u001b[49m\u001b[38;5;241;43m.\u001b[39;49m\u001b[43mrandint\u001b[49m\u001b[43m(\u001b[49m\u001b[38;5;241;43m1\u001b[39;49m\u001b[43m,\u001b[49m\u001b[43m \u001b[49m\u001b[38;5;241;43m9\u001b[39;49m\u001b[43m)\u001b[49m\u001b[43m \u001b[49m\u001b[38;5;28;43;01mfor\u001b[39;49;00m\u001b[43m \u001b[49m\u001b[43m_\u001b[49m\u001b[43m \u001b[49m\u001b[38;5;129;43;01min\u001b[39;49;00m\u001b[43m \u001b[49m\u001b[38;5;28;43mrange\u001b[39;49m\u001b[43m(\u001b[49m\u001b[43mn\u001b[49m\u001b[43m)\u001b[49m\u001b[43m]\u001b[49m\n\u001b[1;32m     64\u001b[0m     \u001b[38;5;28;01mif\u001b[39;00m \u001b[38;5;28msum\u001b[39m(seq) \u001b[38;5;241m!=\u001b[39m \u001b[38;5;241m0\u001b[39m:\n\u001b[1;32m     65\u001b[0m         \u001b[38;5;28;01mreturn\u001b[39;00m generate_sum_10(n) \u001b[38;5;66;03m# try again\u001b[39;00m\n",
      "Cell \u001b[0;32mIn[7], line 63\u001b[0m, in \u001b[0;36m<listcomp>\u001b[0;34m(.0)\u001b[0m\n\u001b[1;32m     62\u001b[0m \u001b[38;5;28;01mdef\u001b[39;00m \u001b[38;5;21mgenerate_sum_10\u001b[39m(n):\n\u001b[0;32m---> 63\u001b[0m     seq \u001b[38;5;241m=\u001b[39m [\u001b[43mrandom\u001b[49m\u001b[38;5;241;43m.\u001b[39;49m\u001b[43mrandint\u001b[49m\u001b[43m(\u001b[49m\u001b[38;5;241;43m1\u001b[39;49m\u001b[43m,\u001b[49m\u001b[43m \u001b[49m\u001b[38;5;241;43m9\u001b[39;49m\u001b[43m)\u001b[49m \u001b[38;5;28;01mfor\u001b[39;00m _ \u001b[38;5;129;01min\u001b[39;00m \u001b[38;5;28mrange\u001b[39m(n)]\n\u001b[1;32m     64\u001b[0m     \u001b[38;5;28;01mif\u001b[39;00m \u001b[38;5;28msum\u001b[39m(seq) \u001b[38;5;241m!=\u001b[39m \u001b[38;5;241m0\u001b[39m:\n\u001b[1;32m     65\u001b[0m         \u001b[38;5;28;01mreturn\u001b[39;00m generate_sum_10(n) \u001b[38;5;66;03m# try again\u001b[39;00m\n",
      "File \u001b[0;32m/Library/Frameworks/Python.framework/Versions/3.11/lib/python3.11/random.py:362\u001b[0m, in \u001b[0;36mRandom.randint\u001b[0;34m(self, a, b)\u001b[0m\n\u001b[1;32m    358\u001b[0m \u001b[38;5;28;01mdef\u001b[39;00m \u001b[38;5;21mrandint\u001b[39m(\u001b[38;5;28mself\u001b[39m, a, b):\n\u001b[1;32m    359\u001b[0m \u001b[38;5;250m    \u001b[39m\u001b[38;5;124;03m\"\"\"Return random integer in range [a, b], including both end points.\u001b[39;00m\n\u001b[1;32m    360\u001b[0m \u001b[38;5;124;03m    \"\"\"\u001b[39;00m\n\u001b[0;32m--> 362\u001b[0m     \u001b[38;5;28;01mreturn\u001b[39;00m \u001b[38;5;28;43mself\u001b[39;49m\u001b[38;5;241;43m.\u001b[39;49m\u001b[43mrandrange\u001b[49m\u001b[43m(\u001b[49m\u001b[43ma\u001b[49m\u001b[43m,\u001b[49m\u001b[43m \u001b[49m\u001b[43mb\u001b[49m\u001b[38;5;241;43m+\u001b[39;49m\u001b[38;5;241;43m1\u001b[39;49m\u001b[43m)\u001b[49m\n",
      "File \u001b[0;32m/Library/Frameworks/Python.framework/Versions/3.11/lib/python3.11/random.py:344\u001b[0m, in \u001b[0;36mRandom.randrange\u001b[0;34m(self, start, stop, step)\u001b[0m\n\u001b[1;32m    342\u001b[0m \u001b[38;5;28;01mif\u001b[39;00m istep \u001b[38;5;241m==\u001b[39m \u001b[38;5;241m1\u001b[39m:\n\u001b[1;32m    343\u001b[0m     \u001b[38;5;28;01mif\u001b[39;00m width \u001b[38;5;241m>\u001b[39m \u001b[38;5;241m0\u001b[39m:\n\u001b[0;32m--> 344\u001b[0m         \u001b[38;5;28;01mreturn\u001b[39;00m istart \u001b[38;5;241m+\u001b[39m \u001b[38;5;28;43mself\u001b[39;49m\u001b[38;5;241;43m.\u001b[39;49m\u001b[43m_randbelow\u001b[49m\u001b[43m(\u001b[49m\u001b[43mwidth\u001b[49m\u001b[43m)\u001b[49m\n\u001b[1;32m    345\u001b[0m     \u001b[38;5;28;01mraise\u001b[39;00m \u001b[38;5;167;01mValueError\u001b[39;00m(\u001b[38;5;124m\"\u001b[39m\u001b[38;5;124mempty range for randrange() (\u001b[39m\u001b[38;5;132;01m%d\u001b[39;00m\u001b[38;5;124m, \u001b[39m\u001b[38;5;132;01m%d\u001b[39;00m\u001b[38;5;124m, \u001b[39m\u001b[38;5;132;01m%d\u001b[39;00m\u001b[38;5;124m)\u001b[39m\u001b[38;5;124m\"\u001b[39m \u001b[38;5;241m%\u001b[39m (istart, istop, width))\n\u001b[1;32m    347\u001b[0m \u001b[38;5;66;03m# Non-unit step argument supplied.\u001b[39;00m\n",
      "File \u001b[0;32m/Library/Frameworks/Python.framework/Versions/3.11/lib/python3.11/random.py:239\u001b[0m, in \u001b[0;36mRandom._randbelow_with_getrandbits\u001b[0;34m(self, n)\u001b[0m\n\u001b[1;32m    236\u001b[0m \u001b[38;5;124m\"\u001b[39m\u001b[38;5;124mReturn a random int in the range [0,n).  Defined for n > 0.\u001b[39m\u001b[38;5;124m\"\u001b[39m\n\u001b[1;32m    238\u001b[0m getrandbits \u001b[38;5;241m=\u001b[39m \u001b[38;5;28mself\u001b[39m\u001b[38;5;241m.\u001b[39mgetrandbits\n\u001b[0;32m--> 239\u001b[0m k \u001b[38;5;241m=\u001b[39m n\u001b[38;5;241m.\u001b[39mbit_length()  \u001b[38;5;66;03m# don't use (n-1) here because n can be 1\u001b[39;00m\n\u001b[1;32m    240\u001b[0m r \u001b[38;5;241m=\u001b[39m getrandbits(k)  \u001b[38;5;66;03m# 0 <= r < 2**k\u001b[39;00m\n\u001b[1;32m    241\u001b[0m \u001b[38;5;28;01mwhile\u001b[39;00m r \u001b[38;5;241m>\u001b[39m\u001b[38;5;241m=\u001b[39m n:\n",
      "\u001b[0;31mRecursionError\u001b[0m: maximum recursion depth exceeded while calling a Python object"
     ]
    }
   ],
   "source": [
    "def find_glades(board):\n",
    "    W, H = len(board), len(board[0])\n",
    "    # TODO: do better\n",
    "    def _is_glade(lx, ly, rx, ry):\n",
    "        if lx == rx and ly == ry:\n",
    "            return False\n",
    "        for x in range(lx, rx+1):\n",
    "            for y in range(ly, ry+1):\n",
    "                if board[x][y] != 0:\n",
    "                    return False\n",
    "        return True\n",
    "    \n",
    "    for lx in range(W):\n",
    "        for ly in range(H):\n",
    "            for rx in range(lx, W):\n",
    "                for ry in range(ly, H):\n",
    "                    if _is_glade(lx, ly, rx, ry):\n",
    "                        yield (lx, ly, rx, ry)\n",
    "\n",
    "\n",
    "MAX_NUMS_PER_GLADE = 4\n",
    "def make_board(w, h, seed, print_board=False):\n",
    "    random.seed(seed)\n",
    "    board = [[0 for _ in range(h)] for _ in range(w)]\n",
    "    \n",
    "    def _rec():\n",
    "        if all(board[x][y] != 0 for x in range(w) for y in range(h)):\n",
    "            return True\n",
    "        # TODO: check for isolated cells, easy pruning\n",
    "        glades = list(find_glades(board))      \n",
    "        random.shuffle(glades)\n",
    "\n",
    "        for lx, ly, rx, ry in glades:\n",
    "          gw, gh = rx-lx+1, ry-ly+1\n",
    "          assert gw*gh >= 2\n",
    "          all_xy = [(x, y) for x in range(lx, rx+1) for y in range(ly, ry+1)]\n",
    "\n",
    "          nns = list(reversed(range(2, min(MAX_NUMS_PER_GLADE, gw*gh)+1)))\n",
    "          \n",
    "          for nn in nns:\n",
    "            nums = random.sample(sum_10_seq[nn], 1)[0][:]\n",
    "            random.shuffle(nums)\n",
    "            for nxy in itertools.combinations(all_xy, nn):\n",
    "                for n, (x, y) in zip(nums, nxy):\n",
    "                    board[x][y] = n\n",
    "                if _rec():\n",
    "                    if print_board:\n",
    "                        dbgboard = [[0 for _ in range(h)] for _ in range(w)]\n",
    "                        for x, y in nxy:\n",
    "                            dbgboard[x][y] = board[x][y]\n",
    "                        draw_board(dbgboard)\n",
    "                    return True\n",
    "                for x, y in nxy:\n",
    "                    board[x][y] = 0\n",
    "        return False\n",
    "    \n",
    "    if not _rec():\n",
    "        return None\n",
    "    return board    \n",
    "\n",
    "board = make_board(5, 5, 35, print_board=True)\n",
    "if board is not None:\n",
    "    draw_board(board)\n",
    "    compress_board(board)\n",
    "\n"
   ]
  }
 ],
 "metadata": {
  "kernelspec": {
   "display_name": "p311",
   "language": "python",
   "name": "python3"
  },
  "language_info": {
   "codemirror_mode": {
    "name": "ipython",
    "version": 3
   },
   "file_extension": ".py",
   "mimetype": "text/x-python",
   "name": "python",
   "nbconvert_exporter": "python",
   "pygments_lexer": "ipython3",
   "version": "3.11.4"
  }
 },
 "nbformat": 4,
 "nbformat_minor": 2
}
