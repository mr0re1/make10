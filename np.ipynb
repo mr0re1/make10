{
 "cells": [
  {
   "cell_type": "code",
   "execution_count": 46,
   "metadata": {},
   "outputs": [],
   "source": [
    "import random\n",
    "import itertools\n",
    "from tqdm.notebook import tqdm\n",
    "from bitarray import bitarray, frozenbitarray"
   ]
  },
  {
   "cell_type": "code",
   "execution_count": 3,
   "metadata": {},
   "outputs": [],
   "source": [
    "def draw_board(board):\n",
    "  print(\"-----------------\")\n",
    "  for row in board:\n",
    "    print(' '.join(map(str, row)))\n",
    "  print(\"-----------------\")\n",
    "\n",
    "def compress_board(board):\n",
    "    W, H = len(board), len(board[0])\n",
    "    seq = []\n",
    "    for x in range(W):\n",
    "        for y in range(H):\n",
    "            if board[x][y] != 0:\n",
    "                seq.append(board[x][y])\n",
    "    jseq = ','.join(map(str, seq))\n",
    "    print(\"buildBoard(%d, []int{%s})\" % (W, jseq))"
   ]
  },
  {
   "cell_type": "code",
   "execution_count": 4,
   "metadata": {},
   "outputs": [],
   "source": [
    "def s10req(n, s, m):\n",
    "    if n == 0 and s == 0:\n",
    "        yield []\n",
    "        return\n",
    "    if m > s or n == 0 or s < 0:\n",
    "        return\n",
    "    for p in range(m, min(9, s) + 1):\n",
    "        for seq in s10req(n - 1, s - p, p):\n",
    "            yield [p] + seq\n",
    "    \n",
    "sum_10_seq = {\n",
    "    i: list(s10req(i, 10, 1)) for i in range(2, 5)\n",
    "}   "
   ]
  },
  {
   "cell_type": "code",
   "execution_count": 5,
   "metadata": {},
   "outputs": [],
   "source": [
    "def find_glades(board):\n",
    "    W, H = len(board), len(board[0])\n",
    "    # TODO: do better\n",
    "    def _is_glade(lx, ly, rx, ry):\n",
    "        if lx == rx and ly == ry:\n",
    "            return False\n",
    "        for x in range(lx, rx+1):\n",
    "            for y in range(ly, ry+1):\n",
    "                if board[x][y] != 0:\n",
    "                    return False\n",
    "        return True\n",
    "    \n",
    "    for lx in range(W):\n",
    "        for ly in range(H):\n",
    "            for rx in range(lx, W):\n",
    "                for ry in range(ly, H):\n",
    "                    if _is_glade(lx, ly, rx, ry):\n",
    "                        yield (lx, ly, rx, ry)\n",
    "\n",
    "\n",
    "MAX_NUMS_PER_GLADE = 4\n",
    "def make_board(w, h, seed, print_board=False):\n",
    "    random.seed(seed)\n",
    "    board = [[0 for _ in range(h)] for _ in range(w)]\n",
    "    \n",
    "    def _isolated(x, y):\n",
    "        if board[x][y] != 0:\n",
    "            return False\n",
    "        for dx, dy in [(0, 1), (1, 0), (0, -1), (-1, 0)]:\n",
    "            nx, ny = x+dx, y+dy\n",
    "            if 0<= nx < w and 0 <= ny < h and board[nx][ny] == 0:\n",
    "                return False\n",
    "        return True\n",
    "\n",
    "    def _rec():\n",
    "        if all(board[x][y] != 0 for x in range(w) for y in range(h)):\n",
    "            return True\n",
    "        if any(_isolated(x, y) for x in range(w) for y in range(h)):\n",
    "            return False\n",
    "        glades = list(find_glades(board))      \n",
    "        random.shuffle(glades)\n",
    "\n",
    "        for lx, ly, rx, ry in glades:\n",
    "          gw, gh = rx-lx+1, ry-ly+1\n",
    "          assert gw*gh >= 2\n",
    "          all_xy = [(x, y) for x in range(lx, rx+1) for y in range(ly, ry+1)]\n",
    "\n",
    "          nns = list(reversed(range(2, min(MAX_NUMS_PER_GLADE, gw*gh)+1)))\n",
    "          \n",
    "          for nn in nns:\n",
    "            nums = random.sample(sum_10_seq[nn], 1)[0][:]\n",
    "            random.shuffle(nums)\n",
    "            for nxy in itertools.combinations(all_xy, nn):\n",
    "                for n, (x, y) in zip(nums, nxy):\n",
    "                    board[x][y] = n\n",
    "                if _rec():\n",
    "                    if print_board:\n",
    "                        dbgboard = [[0 for _ in range(h)] for _ in range(w)]\n",
    "                        for x, y in nxy:\n",
    "                            dbgboard[x][y] = board[x][y]\n",
    "                        draw_board(dbgboard)\n",
    "                    return True\n",
    "                for x, y in nxy:\n",
    "                    board[x][y] = 0\n",
    "        return False\n",
    "    \n",
    "    if not _rec():\n",
    "        return None\n",
    "    return board    \n"
   ]
  },
  {
   "cell_type": "code",
   "execution_count": 54,
   "metadata": {},
   "outputs": [
    {
     "data": {
      "application/vnd.jupyter.widget-view+json": {
       "model_id": "de47471a17d84eccb6f5c6f14c0a482b",
       "version_major": 2,
       "version_minor": 0
      },
      "text/plain": [
       "  0%|          | 0/30 [00:00<?, ?it/s]"
      ]
     },
     "metadata": {},
     "output_type": "display_data"
    },
    {
     "name": "stdout",
     "output_type": "stream",
     "text": [
      "buildBoard(5, []int{6,3,2,2,3,4,3,2,4,1,1,7,1,3,6,1,6,4,7,2,3,1,3,3,2})\n",
      "buildBoard(5, []int{5,1,1,1,6,5,7,1,1,2,5,4,7,1,2,5,6,4,2,5,8,2,2,2,5})\n",
      "buildBoard(5, []int{8,2,2,1,9,3,1,2,5,5,3,4,5,4,4,4,5,1,1,1,7,3,2,1,7})\n",
      "buildBoard(5, []int{2,5,7,3,7,8,5,3,9,1,2,6,4,7,3,8,3,7,4,6,5,5,1,2,7})\n",
      "buildBoard(5, []int{5,7,2,2,6,5,3,2,7,1,1,1,1,1,9,7,6,1,2,7,6,4,4,2,8})\n",
      "buildBoard(5, []int{1,7,1,1,2,4,4,5,1,8,6,2,2,2,4,2,5,1,2,2,9,1,4,6,8})\n",
      "buildBoard(5, []int{2,6,2,1,9,2,4,2,2,2,2,1,4,3,8,3,1,3,5,1,7,2,8,8,2})\n",
      "buildBoard(5, []int{5,3,5,1,7,5,1,1,1,1,3,3,1,2,7,1,3,2,5,2,3,2,2,3,1})\n",
      "buildBoard(5, []int{2,8,9,1,4,7,1,1,1,1,3,7,3,7,1,1,3,1,5,4,6,4,4,2,4})\n",
      "buildBoard(5, []int{6,3,7,3,5,4,4,5,5,2,3,3,2,1,2,3,7,5,2,8,4,4,2,3,7})\n",
      "buildBoard(5, []int{1,4,1,4,6,2,2,4,2,4,5,5,2,4,6,8,2,2,7,1,5,5,6,1,1})\n",
      "buildBoard(5, []int{3,3,1,3,1,3,8,2,3,3,1,7,2,5,5,5,2,8,2,2,5,4,6,2,4})\n",
      "buildBoard(5, []int{1,1,8,6,4,2,3,2,3,1,1,7,3,7,1,8,1,7,9,2,1,2,3,1,6})\n",
      "buildBoard(5, []int{4,4,4,3,3,2,4,2,1,3,4,2,2,6,1,5,9,1,1,3,5,1,2,6,2})\n",
      "buildBoard(5, []int{8,2,5,4,1,6,1,4,2,2,4,3,2,7,3,7,5,4,2,8,3,1,6,8,2})\n",
      "buildBoard(5, []int{4,6,3,3,4,5,5,4,1,4,3,3,1,1,9,4,7,5,5,4,3,6,3,1,6})\n",
      "buildBoard(5, []int{9,8,2,4,6,1,1,9,9,1,6,1,1,2,5,8,2,4,6,1,1,6,2,1,4})\n",
      "buildBoard(5, []int{6,5,2,5,1,4,5,2,1,9,8,4,1,9,1,2,1,4,9,1,5,5,1,2,7})\n",
      "buildBoard(5, []int{1,1,5,2,6,1,9,5,1,3,9,4,1,1,5,1,1,4,2,4,5,4,1,2,2})\n",
      "buildBoard(5, []int{1,9,8,2,2,2,4,2,2,8,1,5,2,2,2,6,2,5,3,6,4,4,2,4,2})\n",
      "buildBoard(5, []int{4,3,3,9,1,5,7,4,3,3,5,3,8,1,1,3,3,2,2,5,4,6,1,9,5})\n",
      "buildBoard(5, []int{1,4,5,9,4,1,3,5,1,6,1,5,5,6,4,1,2,5,2,2,8,2,6,4,8})\n",
      "buildBoard(5, []int{2,9,3,2,6,8,1,2,3,4,1,1,1,7,1,3,1,7,3,1,7,9,2,8,8})\n",
      "buildBoard(5, []int{2,2,4,2,2,3,2,2,3,7,3,8,2,1,2,1,3,3,5,3,3,8,2,4,3})\n",
      "buildBoard(5, []int{3,1,6,3,5,6,3,1,1,1,4,1,3,2,4,8,1,5,1,3,2,3,1,9,3})\n",
      "buildBoard(5, []int{3,2,5,7,3,1,8,5,7,3,3,4,4,2,6,3,8,2,9,2,4,4,2,1,2})\n",
      "buildBoard(5, []int{6,4,3,1,2,4,4,4,5,5,4,1,1,1,3,6,8,2,1,5,5,5,5,2,3})\n",
      "buildBoard(5, []int{2,8,5,5,6,9,4,3,3,4,1,9,1,8,2,5,2,5,5,2,5,8,7,3,8})\n",
      "buildBoard(5, []int{4,2,4,1,3,1,2,5,1,5,1,6,2,7,2,3,3,3,1,1,3,1,8,2,9})\n",
      "buildBoard(5, []int{2,8,1,3,1,4,1,5,5,5,1,4,2,2,6,8,4,6,5,2,2,5,5,5,8})\n"
     ]
    }
   ],
   "source": [
    "BOARDS = {}\n",
    "for seed in tqdm(range(0, 30)):\n",
    "    board = make_board(5, 5, seed, print_board=False)\n",
    "    if board is not None:\n",
    "        BOARDS[seed] = board\n",
    "\n",
    "for board in BOARDS.values():\n",
    "    compress_board(board)"
   ]
  },
  {
   "cell_type": "code",
   "execution_count": 60,
   "metadata": {},
   "outputs": [
    {
     "data": {
      "text/plain": [
       "(472577532, 262351)"
      ]
     },
     "execution_count": 60,
     "metadata": {},
     "output_type": "execute_result"
    }
   ],
   "source": [
    "def _find_spots(b, lx, ly):\n",
    "  W, H = len(b), len(b[0])\n",
    "  d = [[0 for _ in range(H)] for _ in range(W)] # TODO: only need two rows\n",
    "  # TODO: terminate early if sum > 10\n",
    "  for x in range(lx, W):\n",
    "    for y in range(ly, H):\n",
    "      l = d[x-1][y] if x else 0\n",
    "      u = d[x][y-1] if y else 0\n",
    "      lu = d[x-1][y-1] if x and y else 0\n",
    "      d[x][y] = b[x][y] + l + u - lu\n",
    "      if d[x][y] == 10:\n",
    "        yield (x, y)\n",
    "\n",
    "def measure_board(b):\n",
    "    W, H = len(b), len(b[0])\n",
    "    XY = [(x, y) for x in range(W) for y in range(H)]\n",
    "\n",
    "    mask = (1 << (W*H)) - 1\n",
    "    mem = {}\n",
    "\n",
    "    def _rec() -> tuple[bool, int, int]:\n",
    "        nonlocal mask\n",
    "        if mask == 0:\n",
    "            return 1, 0\n",
    "        \n",
    "        if mask in mem:\n",
    "            return mem[mask]\n",
    "        \n",
    "        tgood, tbad = 0, 0\n",
    "\n",
    "        for lx,ly in XY: # TODO: use sum-tree to optimize\n",
    "            for rx, ry in _find_spots(b, lx, ly):\n",
    "                h = []\n",
    "                for x in range(lx, rx+1):\n",
    "                    for y in range(ly, ry+1):\n",
    "                        if b[x][y]:\n",
    "                            h.append((x, y, b[x][y]))\n",
    "                            b[x][y] = 0\n",
    "                            mask ^= 1 << (x*H + y)\n",
    "                good, bad = _rec()\n",
    "                tgood += good\n",
    "                tbad += bad\n",
    "                \n",
    "                for x, y, v in h:\n",
    "                    b[x][y] = v\n",
    "                    mask ^= 1 << (x*H + y)\n",
    "        \n",
    "        if tgood + tbad == 0:\n",
    "            tbad = 1\n",
    "\n",
    "        mem[mask] = (tgood, tbad)\n",
    "        return tgood, tbad\n",
    "    \n",
    "    return _rec()\n",
    "\n",
    "measure_board(BOARDS[0])"
   ]
  },
  {
   "cell_type": "code",
   "execution_count": 62,
   "metadata": {},
   "outputs": [
    {
     "name": "stdout",
     "output_type": "stream",
     "text": [
      "1 0.9994451589017079\n",
      "2 0.999908274198207\n",
      "3 0.9998317257830309\n",
      "4 0.9999732298011732\n",
      "5 0.998476858178658\n",
      "6 0.9998181637795746\n",
      "7 0.9999226974181682\n",
      "8 0.9998383998479589\n",
      "9 0.9999235128791882\n",
      "10 0.9989937436618525\n",
      "11 0.9998460622121674\n",
      "12 0.9998876723027161\n",
      "13 0.9997073888369228\n",
      "14 0.9998068963541196\n",
      "15 0.9998619457316148\n",
      "16 0.9995748261438394\n",
      "17 0.9999750318708066\n",
      "18 0.999837230089798\n",
      "19 0.9972085717427815\n",
      "20 0.9999585066519648\n",
      "21 0.9999715612642913\n",
      "22 0.999928023806604\n",
      "23 0.999810657648087\n",
      "24 0.9961559234017723\n",
      "25 0.999633087686111\n",
      "26 0.9999028629895428\n",
      "27 0.9998222632643773\n",
      "28 0.9999965530046951\n",
      "29 0.9998036667757677\n",
      "30 0.9999454261874331\n"
     ]
    }
   ],
   "source": [
    "for i, board in enumerate(BOARDS.values()):\n",
    "    good, bad = measure_board(board)\n",
    "    print(i + 1, good / (good + bad))"
   ]
  },
  {
   "cell_type": "code",
   "execution_count": 33,
   "metadata": {},
   "outputs": [
    {
     "data": {
      "text/plain": [
       "[(0, 1, 1, 2), (0, 1, 2, 2)]"
      ]
     },
     "execution_count": 33,
     "metadata": {},
     "output_type": "execute_result"
    }
   ],
   "source": [
    "b = [\n",
    "  [5, 0, 5],\n",
    "  [0, 5, 0],\n",
    "  [5, 0, 0],\n",
    "] \n",
    "\n",
    "list(_find_spots(b, 0, 1))\n"
   ]
  },
  {
   "cell_type": "code",
   "execution_count": 50,
   "metadata": {},
   "outputs": [
    {
     "data": {
      "text/plain": [
       "'0b111111'"
      ]
     },
     "execution_count": 50,
     "metadata": {},
     "output_type": "execute_result"
    }
   ],
   "source": [
    "\n",
    "\n",
    "bin((1 << 6) - 1)"
   ]
  }
 ],
 "metadata": {
  "kernelspec": {
   "display_name": "p311",
   "language": "python",
   "name": "python3"
  },
  "language_info": {
   "codemirror_mode": {
    "name": "ipython",
    "version": 3
   },
   "file_extension": ".py",
   "mimetype": "text/x-python",
   "name": "python",
   "nbconvert_exporter": "python",
   "pygments_lexer": "ipython3",
   "version": "3.11.3"
  }
 },
 "nbformat": 4,
 "nbformat_minor": 2
}
