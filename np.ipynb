{
 "cells": [
  {
   "cell_type": "code",
   "execution_count": 17,
   "metadata": {},
   "outputs": [],
   "source": [
    "import random\n",
    "import itertools\n",
    "from tqdm.notebook import tqdm"
   ]
  },
  {
   "cell_type": "code",
   "execution_count": 12,
   "metadata": {},
   "outputs": [],
   "source": [
    "def draw_board(board):\n",
    "  print(\"-----------------\")\n",
    "  for row in board:\n",
    "    print(' '.join(map(str, row)))\n",
    "  print(\"-----------------\")\n",
    "\n",
    "def compress_board(board):\n",
    "    W, H = len(board), len(board[0])\n",
    "    seq = []\n",
    "    for x in range(W):\n",
    "        for y in range(H):\n",
    "            if board[x][y] != 0:\n",
    "                seq.append(board[x][y])\n",
    "    jseq = ','.join(map(str, seq))\n",
    "    print(\"buildBoard(%d, []int{%s})\" % (W, jseq))"
   ]
  },
  {
   "cell_type": "code",
   "execution_count": 9,
   "metadata": {},
   "outputs": [],
   "source": [
    "def s10req(n, s, m):\n",
    "    if n == 0 and s == 0:\n",
    "        yield []\n",
    "        return\n",
    "    if m > s or n == 0 or s < 0:\n",
    "        return\n",
    "    for p in range(m, min(9, s) + 1):\n",
    "        for seq in s10req(n - 1, s - p, p):\n",
    "            yield [p] + seq\n",
    "    \n",
    "sum_10_seq = {\n",
    "    i: list(s10req(i, 10, 1)) for i in range(2, 5)\n",
    "}   "
   ]
  },
  {
   "cell_type": "code",
   "execution_count": 22,
   "metadata": {},
   "outputs": [
    {
     "data": {
      "text/plain": [
       "[[5, 5, 3, 1, 3],\n",
       " [5, 2, 3, 4, 6],\n",
       " [1, 6, 1, 1, 1],\n",
       " [1, 2, 7, 5, 6],\n",
       " [3, 3, 7, 5, 4]]"
      ]
     },
     "execution_count": 22,
     "metadata": {},
     "output_type": "execute_result"
    }
   ],
   "source": [
    "def find_glades(board):\n",
    "    W, H = len(board), len(board[0])\n",
    "    # TODO: do better\n",
    "    def _is_glade(lx, ly, rx, ry):\n",
    "        if lx == rx and ly == ry:\n",
    "            return False\n",
    "        for x in range(lx, rx+1):\n",
    "            for y in range(ly, ry+1):\n",
    "                if board[x][y] != 0:\n",
    "                    return False\n",
    "        return True\n",
    "    \n",
    "    for lx in range(W):\n",
    "        for ly in range(H):\n",
    "            for rx in range(lx, W):\n",
    "                for ry in range(ly, H):\n",
    "                    if _is_glade(lx, ly, rx, ry):\n",
    "                        yield (lx, ly, rx, ry)\n",
    "\n",
    "\n",
    "MAX_NUMS_PER_GLADE = 4\n",
    "def make_board(w, h, seed, print_board=False):\n",
    "    random.seed(seed)\n",
    "    board = [[0 for _ in range(h)] for _ in range(w)]\n",
    "    \n",
    "    def _isolated(x, y):\n",
    "        if board[x][y] != 0:\n",
    "            return False\n",
    "        for dx, dy in [(0, 1), (1, 0), (0, -1), (-1, 0)]:\n",
    "            nx, ny = x+dx, y+dy\n",
    "            if 0<= nx < w and 0 <= ny < h and board[nx][ny] == 0:\n",
    "                return False\n",
    "        return True\n",
    "\n",
    "    def _rec():\n",
    "        if all(board[x][y] != 0 for x in range(w) for y in range(h)):\n",
    "            return True\n",
    "        if any(_isolated(x, y) for x in range(w) for y in range(h)):\n",
    "            return False\n",
    "        glades = list(find_glades(board))      \n",
    "        random.shuffle(glades)\n",
    "\n",
    "        for lx, ly, rx, ry in glades:\n",
    "          gw, gh = rx-lx+1, ry-ly+1\n",
    "          assert gw*gh >= 2\n",
    "          all_xy = [(x, y) for x in range(lx, rx+1) for y in range(ly, ry+1)]\n",
    "\n",
    "          nns = list(reversed(range(2, min(MAX_NUMS_PER_GLADE, gw*gh)+1)))\n",
    "          \n",
    "          for nn in nns:\n",
    "            nums = random.sample(sum_10_seq[nn], 1)[0][:]\n",
    "            random.shuffle(nums)\n",
    "            for nxy in itertools.combinations(all_xy, nn):\n",
    "                for n, (x, y) in zip(nums, nxy):\n",
    "                    board[x][y] = n\n",
    "                if _rec():\n",
    "                    if print_board:\n",
    "                        dbgboard = [[0 for _ in range(h)] for _ in range(w)]\n",
    "                        for x, y in nxy:\n",
    "                            dbgboard[x][y] = board[x][y]\n",
    "                        draw_board(dbgboard)\n",
    "                    return True\n",
    "                for x, y in nxy:\n",
    "                    board[x][y] = 0\n",
    "        return False\n",
    "    \n",
    "    if not _rec():\n",
    "        return None\n",
    "    return board    \n"
   ]
  },
  {
   "cell_type": "code",
   "execution_count": 23,
   "metadata": {},
   "outputs": [
    {
     "data": {
      "application/vnd.jupyter.widget-view+json": {
       "model_id": "5225233991ad4280bcd94e13771bbf32",
       "version_major": 2,
       "version_minor": 0
      },
      "text/plain": [
       "  0%|          | 0/30 [00:00<?, ?it/s]"
      ]
     },
     "metadata": {},
     "output_type": "display_data"
    },
    {
     "name": "stdout",
     "output_type": "stream",
     "text": [
      "buildBoard(5, []int{6,3,2,2,3,4,3,2,4,1,1,7,1,3,6,1,6,4,7,2,3,1,3,3,2})\n",
      "buildBoard(5, []int{5,1,1,1,6,5,7,1,1,2,5,4,7,1,2,5,6,4,2,5,8,2,2,2,5})\n",
      "buildBoard(5, []int{8,2,2,1,9,3,1,2,5,5,3,4,5,4,4,4,5,1,1,1,7,3,2,1,7})\n",
      "buildBoard(5, []int{2,5,7,3,7,8,5,3,9,1,2,6,4,7,3,8,3,7,4,6,5,5,1,2,7})\n",
      "buildBoard(5, []int{5,7,2,2,6,5,3,2,7,1,1,1,1,1,9,7,6,1,2,7,6,4,4,2,8})\n",
      "buildBoard(5, []int{1,7,1,1,2,4,4,5,1,8,6,2,2,2,4,2,5,1,2,2,9,1,4,6,8})\n",
      "buildBoard(5, []int{2,6,2,1,9,2,4,2,2,2,2,1,4,3,8,3,1,3,5,1,7,2,8,8,2})\n",
      "buildBoard(5, []int{5,3,5,1,7,5,1,1,1,1,3,3,1,2,7,1,3,2,5,2,3,2,2,3,1})\n",
      "buildBoard(5, []int{2,8,9,1,4,7,1,1,1,1,3,7,3,7,1,1,3,1,5,4,6,4,4,2,4})\n",
      "buildBoard(5, []int{6,3,7,3,5,4,4,5,5,2,3,3,2,1,2,3,7,5,2,8,4,4,2,3,7})\n",
      "buildBoard(5, []int{1,4,1,4,6,2,2,4,2,4,5,5,2,4,6,8,2,2,7,1,5,5,6,1,1})\n",
      "buildBoard(5, []int{3,3,1,3,1,3,8,2,3,3,1,7,2,5,5,5,2,8,2,2,5,4,6,2,4})\n",
      "buildBoard(5, []int{1,1,8,6,4,2,3,2,3,1,1,7,3,7,1,8,1,7,9,2,1,2,3,1,6})\n",
      "buildBoard(5, []int{4,4,4,3,3,2,4,2,1,3,4,2,2,6,1,5,9,1,1,3,5,1,2,6,2})\n",
      "buildBoard(5, []int{8,2,5,4,1,6,1,4,2,2,4,3,2,7,3,7,5,4,2,8,3,1,6,8,2})\n",
      "buildBoard(5, []int{4,6,3,3,4,5,5,4,1,4,3,3,1,1,9,4,7,5,5,4,3,6,3,1,6})\n",
      "buildBoard(5, []int{9,8,2,4,6,1,1,9,9,1,6,1,1,2,5,8,2,4,6,1,1,6,2,1,4})\n",
      "buildBoard(5, []int{6,5,2,5,1,4,5,2,1,9,8,4,1,9,1,2,1,4,9,1,5,5,1,2,7})\n",
      "buildBoard(5, []int{1,1,5,2,6,1,9,5,1,3,9,4,1,1,5,1,1,4,2,4,5,4,1,2,2})\n",
      "buildBoard(5, []int{1,9,8,2,2,2,4,2,2,8,1,5,2,2,2,6,2,5,3,6,4,4,2,4,2})\n",
      "buildBoard(5, []int{4,3,3,9,1,5,7,4,3,3,5,3,8,1,1,3,3,2,2,5,4,6,1,9,5})\n",
      "buildBoard(5, []int{1,4,5,9,4,1,3,5,1,6,1,5,5,6,4,1,2,5,2,2,8,2,6,4,8})\n",
      "buildBoard(5, []int{2,9,3,2,6,8,1,2,3,4,1,1,1,7,1,3,1,7,3,1,7,9,2,8,8})\n",
      "buildBoard(5, []int{2,2,4,2,2,3,2,2,3,7,3,8,2,1,2,1,3,3,5,3,3,8,2,4,3})\n",
      "buildBoard(5, []int{3,1,6,3,5,6,3,1,1,1,4,1,3,2,4,8,1,5,1,3,2,3,1,9,3})\n",
      "buildBoard(5, []int{3,2,5,7,3,1,8,5,7,3,3,4,4,2,6,3,8,2,9,2,4,4,2,1,2})\n",
      "buildBoard(5, []int{6,4,3,1,2,4,4,4,5,5,4,1,1,1,3,6,8,2,1,5,5,5,5,2,3})\n",
      "buildBoard(5, []int{2,8,5,5,6,9,4,3,3,4,1,9,1,8,2,5,2,5,5,2,5,8,7,3,8})\n",
      "buildBoard(5, []int{4,2,4,1,3,1,2,5,1,5,1,6,2,7,2,3,3,3,1,1,3,1,8,2,9})\n",
      "buildBoard(5, []int{2,8,1,3,1,4,1,5,5,5,1,4,2,2,6,8,4,6,5,2,2,5,5,5,8})\n"
     ]
    }
   ],
   "source": [
    "BOARDS = {}\n",
    "for seed in tqdm(range(0, 30)):\n",
    "    board = make_board(5, 5, seed, print_board=False)\n",
    "    if board is not None:\n",
    "        BOARDS[seed] = board\n",
    "\n",
    "for board in BOARDS.values():\n",
    "    compress_board(board)"
   ]
  }
 ],
 "metadata": {
  "kernelspec": {
   "display_name": "p311",
   "language": "python",
   "name": "python3"
  },
  "language_info": {
   "codemirror_mode": {
    "name": "ipython",
    "version": 3
   },
   "file_extension": ".py",
   "mimetype": "text/x-python",
   "name": "python",
   "nbconvert_exporter": "python",
   "pygments_lexer": "ipython3",
   "version": "3.11.4"
  }
 },
 "nbformat": 4,
 "nbformat_minor": 2
}
